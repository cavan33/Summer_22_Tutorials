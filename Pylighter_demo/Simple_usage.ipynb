{
 "cells": [
  {
   "cell_type": "markdown",
   "metadata": {},
   "source": [
    "# Using PyLighter for NER annotations"
   ]
  },
  {
   "cell_type": "markdown",
   "metadata": {},
   "source": [
    "This notebook is a step by step guide for getting started with PyLighter !\n",
    "\n",
    "Before getting started, the task for this example is to annotate verbs, persons, organisations and localities. For this use, let's define the following dataset:"
   ]
  },
  {
   "cell_type": "markdown",
   "metadata": {},
   "source": [
    "## Defining the corpus"
   ]
  },
  {
   "cell_type": "code",
   "execution_count": 1,
   "metadata": {},
   "outputs": [],
   "source": [
    "# Defining the corpus of documents to use throughout this notebook\n",
    "corpus = [\n",
    "     \"PyLighter is an annotation tool for NER tasks directly on Jupyter. \" \n",
    "    + \"It aims on helping data scientists easily and quickly annotate datasets. \"\n",
    "    + \"This tool was developed by Paylead.\",\n",
    "    \"PayLead is a fintech company specializing in transaction data analysis. \"\n",
    "    + \"Paylead brings retail and banking together, so customers get rewarded when they buy. \" \n",
    "    + \"Welcome to the data-for-value economy.\"\n",
    "]"
   ]
  },
  {
   "cell_type": "markdown",
   "metadata": {},
   "source": [
    "## Start annotating"
   ]
  },
  {
   "cell_type": "code",
   "execution_count": 2,
   "metadata": {},
   "outputs": [],
   "source": [
    "# Import pylighter annotation tool !\n",
    "from pylighter import Annotation"
   ]
  },
  {
   "cell_type": "code",
   "execution_count": 3,
   "metadata": {},
   "outputs": [
    {
     "data": {
      "application/vnd.jupyter.widget-view+json": {
       "model_id": "7bdc0ed61e4940b5a562e54d23d06b8d",
       "version_major": 2,
       "version_minor": 0
      },
      "text/plain": [
       "Output()"
      ]
     },
     "metadata": {},
     "output_type": "display_data"
    },
    {
     "data": {
      "text/plain": [
       "<pylighter.annotation.Annotation at 0x23143bf43a0>"
      ]
     },
     "execution_count": 3,
     "metadata": {},
     "output_type": "execute_result"
    }
   ],
   "source": [
    "# Start annotating !\n",
    "Annotation(corpus)"
   ]
  },
  {
   "cell_type": "markdown",
   "metadata": {},
   "source": [
    "## Changing the labels"
   ]
  },
  {
   "cell_type": "markdown",
   "metadata": {},
   "source": [
    "There is a wide variety of NER tasks, so by default the possible labels are _l1_, _l2_, etc. \n",
    "You could remember that _l1_ is equivalent to the label _verb_, _l2_ to _person_ and so on. However, it is possible to change the names of labels, just like this:"
   ]
  },
  {
   "cell_type": "code",
   "execution_count": 4,
   "metadata": {},
   "outputs": [],
   "source": [
    "labels_names = [\"Verb\", \"Person\", \"Org\", \"Loc\"]"
   ]
  },
  {
   "cell_type": "code",
   "execution_count": 5,
   "metadata": {},
   "outputs": [
    {
     "data": {
      "application/vnd.jupyter.widget-view+json": {
       "model_id": "7bdc0ed61e4940b5a562e54d23d06b8d",
       "version_major": 2,
       "version_minor": 0
      },
      "text/plain": [
       "Output(outputs=({'output_type': 'display_data', 'data': {'text/plain': '<IPython.core.display.Javascript objec…"
      ]
     },
     "metadata": {},
     "output_type": "display_data"
    }
   ],
   "source": [
    "annotation = Annotation(corpus, labels_names=labels_names)"
   ]
  },
  {
   "cell_type": "markdown",
   "metadata": {},
   "source": [
    "Now you can correctly annotate the corpus !"
   ]
  },
  {
   "cell_type": "markdown",
   "metadata": {},
   "source": [
    "## Retrieving the results"
   ]
  },
  {
   "cell_type": "markdown",
   "metadata": {},
   "source": [
    "At that point, you should have finished your annotation but you may wonder how to get your annotations. There is two ways:\n",
    "- Clicking on the save button\n",
    "- Accessing the labelise corpus directly"
   ]
  },
  {
   "cell_type": "markdown",
   "metadata": {},
   "source": [
    "### Using the save button"
   ]
  },
  {
   "cell_type": "markdown",
   "metadata": {},
   "source": [
    "When clicking on the save button, your annotations will be save in the file _annotation.csv_. It will also automatically save when you finished annotating all the corpus.\n",
    "\n",
    "The csv file will have two columns, the first one is each element of the corpus, the second one is the annotation of the corpus charachter by charachter in IOB2 format.\n",
    "\n",
    "Note: It is possible to change the path to the save file."
   ]
  },
  {
   "cell_type": "code",
   "execution_count": 6,
   "metadata": {},
   "outputs": [],
   "source": [
    "path_to_save_file = \"annotation.csv\" # Which is the default one"
   ]
  },
  {
   "cell_type": "code",
   "execution_count": 7,
   "metadata": {},
   "outputs": [
    {
     "data": {
      "application/vnd.jupyter.widget-view+json": {
       "model_id": "122a10768cc24328821ea60448d295fa",
       "version_major": 2,
       "version_minor": 0
      },
      "text/plain": [
       "Output(outputs=({'output_type': 'display_data', 'data': {'text/plain': '<IPython.core.display.Javascript objec…"
      ]
     },
     "metadata": {},
     "output_type": "display_data"
    },
    {
     "data": {
      "application/vnd.jupyter.widget-view+json": {
       "model_id": "296f7ef6e86e4903b74d4fafc34f9598",
       "version_major": 2,
       "version_minor": 0
      },
      "text/plain": [
       "HTML(value='<style>    @import url(\\'https://fonts.googleapis.com/css2?family=Noto+Sans+JP&display=swap\\')</st…"
      ]
     },
     "metadata": {},
     "output_type": "display_data"
    },
    {
     "data": {
      "application/vnd.jupyter.widget-view+json": {
       "model_id": "43b06369906144e1a7ecc6b65f3fbaf6",
       "version_major": 2,
       "version_minor": 0
      },
      "text/plain": [
       "HTML(value='<style>.char_display {    font-size: medium ;    margin: 2px 0 2px 0;    padding: 0;    height: 1.…"
      ]
     },
     "metadata": {},
     "output_type": "display_data"
    },
    {
     "data": {
      "application/vnd.jupyter.widget-view+json": {
       "model_id": "ca60b1ef75864f77b75c04d44e785e82",
       "version_major": 2,
       "version_minor": 0
      },
      "text/plain": [
       "HBox(children=(HBox(children=(Button(button_style='info', description='Previous', icon='chevron-left', style=B…"
      ]
     },
     "metadata": {},
     "output_type": "display_data"
    },
    {
     "data": {
      "application/javascript": "let snackbar = document.getElementById('snackbar')\n                if (snackbar) {\n                    snackbar.remove()\n                }",
      "text/plain": [
       "<IPython.core.display.Javascript object>"
      ]
     },
     "metadata": {},
     "output_type": "display_data"
    },
    {
     "data": {
      "application/vnd.jupyter.widget-view+json": {
       "model_id": "4e477ca3a4f946fab60115dc633a0bd1",
       "version_major": 2,
       "version_minor": 0
      },
      "text/plain": [
       "HTML(value='<style>.snackbar-success {    background-color:#4caf50;}.snackbar-error {    background-color: #f4…"
      ]
     },
     "metadata": {},
     "output_type": "display_data"
    },
    {
     "data": {
      "application/javascript": "document.body.appendChild(document.getElementById('snackbar'))",
      "text/plain": [
       "<IPython.core.display.Javascript object>"
      ]
     },
     "metadata": {},
     "output_type": "display_data"
    },
    {
     "data": {
      "text/plain": [
       "<pylighter.annotation.Annotation at 0x1711bf6f400>"
      ]
     },
     "execution_count": 7,
     "metadata": {},
     "output_type": "execute_result"
    }
   ],
   "source": [
    "Annotation(\n",
    "    corpus,\n",
    "    labels_names=labels_names,\n",
    "    save_path=path_to_save_file\n",
    ")"
   ]
  },
  {
   "cell_type": "markdown",
   "metadata": {},
   "source": [
    "You can now read access the elements in that file this:"
   ]
  },
  {
   "cell_type": "code",
   "execution_count": 9,
   "metadata": {},
   "outputs": [
    {
     "data": {
      "text/html": [
       "<div>\n",
       "<style scoped>\n",
       "    .dataframe tbody tr th:only-of-type {\n",
       "        vertical-align: middle;\n",
       "    }\n",
       "\n",
       "    .dataframe tbody tr th {\n",
       "        vertical-align: top;\n",
       "    }\n",
       "\n",
       "    .dataframe thead th {\n",
       "        text-align: right;\n",
       "    }\n",
       "</style>\n",
       "<table border=\"1\" class=\"dataframe\">\n",
       "  <thead>\n",
       "    <tr style=\"text-align: right;\">\n",
       "      <th></th>\n",
       "      <th>document</th>\n",
       "      <th>labels</th>\n",
       "    </tr>\n",
       "  </thead>\n",
       "  <tbody>\n",
       "    <tr>\n",
       "      <th>0</th>\n",
       "      <td>PyLighter is an annotation tool for NER tasks ...</td>\n",
       "      <td>['B-Org', 'I-Org', 'I-Org', 'I-Org', 'I-Org', ...</td>\n",
       "    </tr>\n",
       "    <tr>\n",
       "      <th>1</th>\n",
       "      <td>PayLead is a fintech company specializing in t...</td>\n",
       "      <td>['B-Org', 'I-Org', 'I-Org', 'I-Org', 'I-Org', ...</td>\n",
       "    </tr>\n",
       "  </tbody>\n",
       "</table>\n",
       "</div>"
      ],
      "text/plain": [
       "                                            document  \\\n",
       "0  PyLighter is an annotation tool for NER tasks ...   \n",
       "1  PayLead is a fintech company specializing in t...   \n",
       "\n",
       "                                              labels  \n",
       "0  ['B-Org', 'I-Org', 'I-Org', 'I-Org', 'I-Org', ...  \n",
       "1  ['B-Org', 'I-Org', 'I-Org', 'I-Org', 'I-Org', ...  "
      ]
     },
     "execution_count": 9,
     "metadata": {},
     "output_type": "execute_result"
    }
   ],
   "source": [
    "import pandas as pd\n",
    "pd.read_csv(path_to_save_file, sep=\";\")"
   ]
  },
  {
   "cell_type": "markdown",
   "metadata": {},
   "source": [
    "### Direct access to the annotations"
   ]
  },
  {
   "cell_type": "markdown",
   "metadata": {},
   "source": [
    "If you access annotation.labels, you should see the labels of your annotations. You can then do whatever you want with it."
   ]
  },
  {
   "cell_type": "code",
   "execution_count": 10,
   "metadata": {},
   "outputs": [],
   "source": [
    "my_annotation = annotation.labels"
   ]
  },
  {
   "cell_type": "markdown",
   "metadata": {},
   "source": [
    "If you expect to modify it, it is strongly recommended to do a deep copy of annotation.labels "
   ]
  },
  {
   "cell_type": "code",
   "execution_count": 11,
   "metadata": {},
   "outputs": [],
   "source": [
    "from copy import deepcopy\n",
    "my_annotation = deepcopy(annotation.labels)"
   ]
  },
  {
   "cell_type": "markdown",
   "metadata": {},
   "source": [
    "## Final note"
   ]
  },
  {
   "cell_type": "markdown",
   "metadata": {},
   "source": [
    "At this point, you should have everything you need to start annotating. \n",
    "\n",
    "Bear in mind, that if you stumble upon more specific use cases, PyLighter offers more tools that is likely to respond to your need. You can read more about it in the README.md or in the Advanced usage demo. "
   ]
  }
 ],
 "metadata": {
  "interpreter": {
   "hash": "91139f2af9ed4d74b82262f9399fdea3da4ad5f6a17ff94477f7fc9086f8746d"
  },
  "kernelspec": {
   "display_name": "Python 3 (ipykernel)",
   "language": "python",
   "name": "python3"
  },
  "language_info": {
   "codemirror_mode": {
    "name": "ipython",
    "version": 3
   },
   "file_extension": ".py",
   "mimetype": "text/x-python",
   "name": "python",
   "nbconvert_exporter": "python",
   "pygments_lexer": "ipython3",
   "version": "3.10.4"
  }
 },
 "nbformat": 4,
 "nbformat_minor": 4
}
